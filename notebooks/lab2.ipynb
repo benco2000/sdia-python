{
 "cells": [
  {
   "cell_type": "code",
<<<<<<< HEAD
   "execution_count": null,
   "source": [],
   "outputs": [],
   "metadata": {}
  },
  {
   "cell_type": "code",
   "execution_count": 1,
=======
   "execution_count": 2,
>>>>>>> 07f883994c2f72f3cf5b9706e65404d41f088518
   "source": [
    "%load_ext autoreload\r\n",
    "%autoreload 2"
   ],
   "outputs": [],
   "metadata": {}
  },
  {
<<<<<<< HEAD
   "cell_type": "code",
   "execution_count": 35,
   "source": [
    "from lab2.box_window import BoxWindow\r\n",
    "import numpy as np\r\n",
    "a =np.array([[1,2], [3,4]])\r\n",
    "print(a)\r\n",
    "myBox = BoxWindow(a)\r\n",
    "print(myBox)\r\n",
    "#print (myBox.__len__())\r\n",
    "\r\n"
   ],
   "outputs": [
    {
     "output_type": "stream",
     "name": "stdout",
     "text": [
      "[[1 2]\n",
      " [3 4]]\n",
      "salut\n"
=======
   "cell_type": "markdown",
   "source": [],
   "metadata": {}
  },
  {
   "cell_type": "code",
   "execution_count": 4,
   "source": [
    "from lab2.ball_window import BallWindow\r\n",
    "import numpy as np"
   ],
   "outputs": [],
   "metadata": {}
  },
  {
   "cell_type": "code",
   "execution_count": 8,
   "source": [
    "#(np.array([1]), 4), (np.array([1, 3]), 16), (np.array([1.4, 2.6, 3.9]), 64)\r\n",
    "ball = BallWindow(np.array([1.4, 2.6, 3.9]), 2)\r\n",
    "ball.volume()"
   ],
   "outputs": [
    {
     "output_type": "execute_result",
     "data": {
      "text/plain": [
       "64"
      ]
     },
     "metadata": {},
     "execution_count": 8
    }
   ],
   "metadata": {}
  },
  {
   "cell_type": "code",
   "execution_count": 16,
   "source": [
    "a = np.array([[1.4, 2.6, 3.9],[1.4, 2.6, 3.9]])\r\n",
    "type(a[0])"
   ],
   "outputs": [
    {
     "output_type": "execute_result",
     "data": {
      "text/plain": [
       "numpy.ndarray"
      ]
     },
     "metadata": {},
     "execution_count": 16
    }
   ],
   "metadata": {}
  },
  {
   "cell_type": "code",
   "execution_count": 13,
   "source": [
    "from lab2.utils import get_random_number_generator\r\n",
    "rng = get_random_number_generator(1)\r\n",
    "type(rng)"
   ],
   "outputs": [
    {
<<<<<<< HEAD
     "output_type": "error",
     "ename": "ModuleNotFoundError",
     "evalue": "No module named 'lab2'",
     "traceback": [
      "\u001b[1;31m---------------------------------------------------------------------------\u001b[0m",
      "\u001b[1;31mModuleNotFoundError\u001b[0m                       Traceback (most recent call last)",
      "\u001b[1;32m~\\AppData\\Local\\Temp/ipykernel_13628/4244212655.py\u001b[0m in \u001b[0;36m<module>\u001b[1;34m\u001b[0m\n\u001b[1;32m----> 1\u001b[1;33m \u001b[1;32mfrom\u001b[0m \u001b[0mlab2\u001b[0m\u001b[1;33m.\u001b[0m\u001b[0mbox_window\u001b[0m \u001b[1;32mimport\u001b[0m \u001b[0mMyClass\u001b[0m\u001b[1;33m\u001b[0m\u001b[1;33m\u001b[0m\u001b[0m\n\u001b[0m",
      "\u001b[1;31mModuleNotFoundError\u001b[0m: No module named 'lab2'"
>>>>>>> 3c636899c387ba3f029a7fbe27a61f7616986909
     ]
=======
     "output_type": "execute_result",
     "data": {
      "text/plain": [
       "numpy.random._generator.Generator"
      ]
     },
     "metadata": {},
     "execution_count": 13
>>>>>>> 07f883994c2f72f3cf5b9706e65404d41f088518
    }
   ],
   "metadata": {}
<<<<<<< HEAD
  },
  {
   "cell_type": "code",
   "execution_count": null,
   "source": [],
   "outputs": [],
   "metadata": {}
  },
  {
   "cell_type": "code",
   "execution_count": null,
   "source": [],
   "outputs": [],
   "metadata": {}
=======
>>>>>>> 3c636899c387ba3f029a7fbe27a61f7616986909
  }
 ],
 "metadata": {
  "orig_nbformat": 4,
  "language_info": {
   "name": "python",
   "version": "3.8.11",
   "mimetype": "text/x-python",
   "codemirror_mode": {
    "name": "ipython",
    "version": 3
   },
   "pygments_lexer": "ipython3",
   "nbconvert_exporter": "python",
   "file_extension": ".py"
  },
  "kernelspec": {
   "name": "python3",
   "display_name": "Python 3.8.11 64-bit ('sdia-python': conda)"
  },
  "interpreter": {
<<<<<<< HEAD
   "hash": "5d066ecb820ad70b2496d9bb57f2be2113cf85e34829633c96e981e535a3cc03"
=======
   "hash": "14397f400563b3050677fe9714b25ab7faaf9cfdbbdffe1910a107eebf2e5b14"
>>>>>>> 3c636899c387ba3f029a7fbe27a61f7616986909
  }
 },
 "nbformat": 4,
 "nbformat_minor": 2
}